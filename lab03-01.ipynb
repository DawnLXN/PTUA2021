{
 "cells": [
  {
   "cell_type": "code",
   "execution_count": 4,
   "metadata": {},
   "outputs": [
    {
     "name": "stdout",
     "output_type": "stream",
     "text": [
      "523.6\n"
     ]
    }
   ],
   "source": [
    "# chapter2 - Exercise2.1\n",
    "\n",
    "r = 5\n",
    "pi = 3.1415926535897932\n",
    "volumn = 4 / 3 * pi * r **3\n",
    "print (round(volumn, 2))"
   ]
  },
  {
   "cell_type": "code",
   "execution_count": 16,
   "metadata": {},
   "outputs": [
    {
     "name": "stdout",
     "output_type": "stream",
     "text": [
      "945.45\n"
     ]
    }
   ],
   "source": [
    "# chapter2 - Exercise2.2\n",
    "\n",
    "a = 24.95\n",
    "n = 60\n",
    "cost1 = a * 0.6 * n\n",
    "cost2 = 3 + (n - 1) * 0.75\n",
    "cost = cost1 + cost2\n",
    "print(round(cost,2))"
   ]
  },
  {
   "cell_type": "code",
   "execution_count": 2,
   "metadata": {},
   "outputs": [
    {
     "name": "stdout",
     "output_type": "stream",
     "text": [
      "7 : 30 : 06\n"
     ]
    }
   ],
   "source": [
    "# chapter2 - Exercise2.3\n",
    "\n",
    "start_time = 6 + 52 / 60\n",
    "run_time =( 8 / 60 + 15 / 3600 ) * 2 + ( 7 / 60 + 12 / 3600 ) * 3\n",
    "endtime = start_time + run_time\n",
    "hour = int(endtime)\n",
    "minute = int((endtime - hour) * 60 )\n",
    "second1 = int(((endtime - hour) * 60 - int((endtime - hour) * 60 )) * 60)\n",
    "second = str(second1).rjust(2, \"0\")\n",
    "\n",
    "print (hour, \":\", minute, \":\", second)\n",
    "\n"
   ]
  },
  {
   "cell_type": "code",
   "execution_count": 12,
   "metadata": {},
   "outputs": [
    {
     "name": "stdout",
     "output_type": "stream",
     "text": [
      "3\n"
     ]
    }
   ],
   "source": [
    "# chapter8 - Exercis8.2\n",
    "\n",
    "word = \"bananas\"\n",
    "count = word.count (\"a\")\n",
    "print(count)\n"
   ]
  },
  {
   "cell_type": "code",
   "execution_count": 26,
   "metadata": {},
   "outputs": [
    {
     "name": "stdout",
     "output_type": "stream",
     "text": [
      "True\n"
     ]
    }
   ],
   "source": [
    "# chapter8 - Exercis8.3\n",
    "\n",
    "def is_palindrome(word):\n",
    "    return word == word[::-1]\n",
    "print(is_palindrome('abbcbba'))"
   ]
  },
  {
   "cell_type": "code",
   "execution_count": 28,
   "metadata": {},
   "outputs": [],
   "source": [
    "# chapter8 - Exercis8.4\n",
    "\n",
    "def any_lowercase1(s):\n",
    "    for c in s:\n",
    "        if c.islower():\n",
    "            return True\n",
    "        else:\n",
    "            return False\n",
    "# This command only detects whether the first letter of the word is lowercase，\n",
    "# and returns “True” or “False”. This can lead to incorrect results,\n",
    "# because it stops running after detecting the first letter.\n",
    "\n",
    "def any_lowercase2(s):\n",
    "    for c in s:\n",
    "        if 'c'.islower():\n",
    "            return 'True'\n",
    "        else:\n",
    "            return 'False'\n",
    "# The output result of this command is always \"True\" .\n",
    "# Because it only detects whether the 'c' is lowercase,\n",
    "# and obviously it is. \n",
    "# The fist c has no quotation marks and represents the letter in the word s。\n",
    "# But the second c is quoted, which represents the character \"c\" itself, \n",
    "# which has no relationship with s.\n",
    "\n",
    "def any_lowercase3(s):\n",
    "    for c in s:\n",
    "        flag = c.islower()\n",
    "    return flag\n",
    "# The output of this command depends on the last letter in the word s.\n",
    "\n",
    "\n",
    "def any_lowercase4(s):\n",
    "    flag = False\n",
    "    for c in s:\n",
    "        flag = flag or c.islower()\n",
    "    return flag\n",
    "# This function can check whether a string contains any lowercase letters.\n",
    "# The default value of flag is false.Then the final result depends on c.islower().\n",
    "# If c.islower() is true, then the final result is \"True\".\n",
    "# Otherwise, it is the default value of flag \"False\"。\n",
    "\n",
    "def any_lowercase5(s):\n",
    "    for c in s:\n",
    "        if not c.islower():\n",
    "            return False\n",
    "    return True\n",
    "# This will check if all letters in the word are lowercase.\n",
    "#\"True\" will be output only when all letters are lowercase."
   ]
  },
  {
   "cell_type": "code",
   "execution_count": 29,
   "metadata": {},
   "outputs": [
    {
     "name": "stdout",
     "output_type": "stream",
     "text": [
      "jolly\n"
     ]
    }
   ],
   "source": [
    "# chapter8 - Exercis8.5\n",
    "\n",
    "def rotate_letter(letter, n):\n",
    "  \n",
    "    if letter.isupper():\n",
    "        start = ord('A')\n",
    "    elif letter.islower():\n",
    "        start = ord('a')\n",
    "    else:\n",
    "        return letter\n",
    "\n",
    "    c = ord(letter) - start\n",
    "    i = (c + n) % 26 + start\n",
    "    return chr(i)\n",
    "\n",
    "\n",
    "def rotate_word(word, n):\n",
    "\n",
    "    res = ''\n",
    "    for letter in word:\n",
    "        res += rotate_letter(letter, n)\n",
    "    return res\n",
    "\n",
    "print(rotate_word('cheer', 7))"
   ]
  },
  {
   "cell_type": "code",
   "execution_count": null,
   "metadata": {},
   "outputs": [],
   "source": []
  }
 ],
 "metadata": {
  "kernelspec": {
   "display_name": "Python 3",
   "language": "python",
   "name": "python3"
  },
  "language_info": {
   "codemirror_mode": {
    "name": "ipython",
    "version": 3
   },
   "file_extension": ".py",
   "mimetype": "text/x-python",
   "name": "python",
   "nbconvert_exporter": "python",
   "pygments_lexer": "ipython3",
   "version": "3.8.5"
  }
 },
 "nbformat": 4,
 "nbformat_minor": 4
}
